{
 "cells": [
  {
   "metadata": {},
   "cell_type": "markdown",
   "source": [
    "注意，PeftModel只支持相同adapter的模型，而PeftMixedModel支持不同adapter的模型。\n",
    "\n",
    "PeftModel一次只能激活一个adapter，而PeftMixedModel可以激活多个adapter。"
   ],
   "id": "1209f932b289349"
  },
  {
   "metadata": {
    "ExecuteTime": {
     "end_time": "2024-12-06T11:12:58.042352Z",
     "start_time": "2024-12-06T11:12:56.581435Z"
    }
   },
   "cell_type": "code",
   "source": [
    "from peft.tuners import MixedModel\n",
    "\n",
    "base_model = 'Qwen/Qwen2-7B-Instruct'  # load the base model, e.g. from transformers"
   ],
   "id": "2f414a6204d5415e",
   "outputs": [],
   "execution_count": 1
  },
  {
   "metadata": {
    "ExecuteTime": {
     "end_time": "2024-12-06T11:13:14.234631Z",
     "start_time": "2024-12-06T11:12:58.045140Z"
    }
   },
   "cell_type": "code",
   "source": [
    "# load base model\n",
    "from transformers import AutoModel\n",
    "model = AutoModel.from_pretrained(base_model)"
   ],
   "id": "71770cc555aca490",
   "outputs": [
    {
     "data": {
      "text/plain": [
       "Loading checkpoint shards:   0%|          | 0/4 [00:00<?, ?it/s]"
      ],
      "application/vnd.jupyter.widget-view+json": {
       "version_major": 2,
       "version_minor": 0,
       "model_id": "0af1b19982c74abcb727bf66eec4eae0"
      }
     },
     "metadata": {},
     "output_type": "display_data"
    }
   ],
   "execution_count": 2
  },
  {
   "metadata": {
    "ExecuteTime": {
     "end_time": "2024-12-06T11:13:14.410880Z",
     "start_time": "2024-12-06T11:13:14.310093Z"
    }
   },
   "cell_type": "code",
   "source": [
    "# load the model with PEFT\n",
    "from peft import PeftMixedModel, LoraConfig\n",
    "\n",
    "rank = 4\n",
    "LoRA_amount = 3\n",
    "\n",
    "peft_config = LoraConfig(\n",
    "    inference_mode=False,\n",
    "    r=rank,\n",
    "    lora_alpha=32,\n",
    "    lora_dropout=0.1\n",
    ")\n",
    "model = PeftMixedModel(model, peft_config, adapter_name=\"0\")\n",
    "for LoRA_index in range(1, LoRA_amount):\n",
    "    model.add_adapter(str(LoRA_index), peft_config)"
   ],
   "id": "c974f33c336d8da4",
   "outputs": [
    {
     "name": "stdout",
     "output_type": "stream",
     "text": [
      "'NoneType' object has no attribute 'cadam32bit_grad_fp32'\n"
     ]
    },
    {
     "name": "stderr",
     "output_type": "stream",
     "text": [
      "/opt/miniconda3/envs/memo/lib/python3.10/site-packages/bitsandbytes/cextension.py:34: UserWarning: The installed version of bitsandbytes was compiled without GPU support. 8-bit optimizers, 8-bit multiplication, and GPU quantization are unavailable.\n",
      "  warn(\"The installed version of bitsandbytes was compiled without GPU support. \"\n"
     ]
    }
   ],
   "execution_count": 3
  },
  {
   "metadata": {
    "ExecuteTime": {
     "end_time": "2024-12-06T11:13:14.421605Z",
     "start_time": "2024-12-06T11:13:14.417247Z"
    }
   },
   "cell_type": "code",
   "source": "model",
   "id": "18caf537b3b5a5a1",
   "outputs": [
    {
     "data": {
      "text/plain": [
       "PeftMixedModel(\n",
       "  (base_model): MixedModel(\n",
       "    (model): Qwen2Model(\n",
       "      (embed_tokens): Embedding(152064, 3584)\n",
       "      (layers): ModuleList(\n",
       "        (0-27): 28 x Qwen2DecoderLayer(\n",
       "          (self_attn): Qwen2SdpaAttention(\n",
       "            (q_proj): lora.Linear(\n",
       "              (base_layer): Linear(in_features=3584, out_features=3584, bias=True)\n",
       "              (lora_dropout): ModuleDict(\n",
       "                (0): Dropout(p=0.1, inplace=False)\n",
       "                (1): Dropout(p=0.1, inplace=False)\n",
       "                (2): Dropout(p=0.1, inplace=False)\n",
       "              )\n",
       "              (lora_A): ModuleDict(\n",
       "                (0): Linear(in_features=3584, out_features=4, bias=False)\n",
       "                (1): Linear(in_features=3584, out_features=4, bias=False)\n",
       "                (2): Linear(in_features=3584, out_features=4, bias=False)\n",
       "              )\n",
       "              (lora_B): ModuleDict(\n",
       "                (0): Linear(in_features=4, out_features=3584, bias=False)\n",
       "                (1): Linear(in_features=4, out_features=3584, bias=False)\n",
       "                (2): Linear(in_features=4, out_features=3584, bias=False)\n",
       "              )\n",
       "              (lora_embedding_A): ParameterDict()\n",
       "              (lora_embedding_B): ParameterDict()\n",
       "              (lora_magnitude_vector): ModuleDict()\n",
       "            )\n",
       "            (k_proj): Linear(in_features=3584, out_features=512, bias=True)\n",
       "            (v_proj): lora.Linear(\n",
       "              (base_layer): Linear(in_features=3584, out_features=512, bias=True)\n",
       "              (lora_dropout): ModuleDict(\n",
       "                (0): Dropout(p=0.1, inplace=False)\n",
       "                (1): Dropout(p=0.1, inplace=False)\n",
       "                (2): Dropout(p=0.1, inplace=False)\n",
       "              )\n",
       "              (lora_A): ModuleDict(\n",
       "                (0): Linear(in_features=3584, out_features=4, bias=False)\n",
       "                (1): Linear(in_features=3584, out_features=4, bias=False)\n",
       "                (2): Linear(in_features=3584, out_features=4, bias=False)\n",
       "              )\n",
       "              (lora_B): ModuleDict(\n",
       "                (0): Linear(in_features=4, out_features=512, bias=False)\n",
       "                (1): Linear(in_features=4, out_features=512, bias=False)\n",
       "                (2): Linear(in_features=4, out_features=512, bias=False)\n",
       "              )\n",
       "              (lora_embedding_A): ParameterDict()\n",
       "              (lora_embedding_B): ParameterDict()\n",
       "              (lora_magnitude_vector): ModuleDict()\n",
       "            )\n",
       "            (o_proj): Linear(in_features=3584, out_features=3584, bias=False)\n",
       "            (rotary_emb): Qwen2RotaryEmbedding()\n",
       "          )\n",
       "          (mlp): Qwen2MLP(\n",
       "            (gate_proj): Linear(in_features=3584, out_features=18944, bias=False)\n",
       "            (up_proj): Linear(in_features=3584, out_features=18944, bias=False)\n",
       "            (down_proj): Linear(in_features=18944, out_features=3584, bias=False)\n",
       "            (act_fn): SiLU()\n",
       "          )\n",
       "          (input_layernorm): Qwen2RMSNorm((3584,), eps=1e-06)\n",
       "          (post_attention_layernorm): Qwen2RMSNorm((3584,), eps=1e-06)\n",
       "        )\n",
       "      )\n",
       "      (norm): Qwen2RMSNorm((3584,), eps=1e-06)\n",
       "    )\n",
       "  )\n",
       ")"
      ]
     },
     "execution_count": 4,
     "metadata": {},
     "output_type": "execute_result"
    }
   ],
   "execution_count": 4
  },
  {
   "metadata": {
    "ExecuteTime": {
     "end_time": "2024-12-06T11:13:14.453607Z",
     "start_time": "2024-12-06T11:13:14.448448Z"
    }
   },
   "cell_type": "code",
   "source": "model.set_adapter(['0', '1', '2'])",
   "id": "4a2643a70e5e2c42",
   "outputs": [],
   "execution_count": 5
  },
  {
   "metadata": {
    "ExecuteTime": {
     "end_time": "2024-12-06T11:13:14.466370Z",
     "start_time": "2024-12-06T11:13:14.464601Z"
    }
   },
   "cell_type": "code",
   "source": "model.active_adapters",
   "id": "2e102622341ea47c",
   "outputs": [
    {
     "data": {
      "text/plain": [
       "['0', '1', '2']"
      ]
     },
     "execution_count": 6,
     "metadata": {},
     "output_type": "execute_result"
    }
   ],
   "execution_count": 6
  }
 ],
 "metadata": {
  "kernelspec": {
   "display_name": "Python 3",
   "language": "python",
   "name": "python3"
  },
  "language_info": {
   "codemirror_mode": {
    "name": "ipython",
    "version": 2
   },
   "file_extension": ".py",
   "mimetype": "text/x-python",
   "name": "python",
   "nbconvert_exporter": "python",
   "pygments_lexer": "ipython2",
   "version": "2.7.6"
  }
 },
 "nbformat": 4,
 "nbformat_minor": 5
}
