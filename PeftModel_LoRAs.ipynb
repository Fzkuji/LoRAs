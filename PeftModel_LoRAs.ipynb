{
 "cells": [
  {
   "metadata": {},
   "cell_type": "markdown",
   "source": [
    "注意，PeftModel只支持相同adapter的模型，而PeftMixedModel支持不同adapter的模型。\n",
    "\n",
    "PeftModel一次只能激活一个adapter，而PeftMixedModel可以激活多个adapter。"
   ],
   "id": "2cf1fa1a22af2873"
  },
  {
   "metadata": {
    "ExecuteTime": {
     "end_time": "2024-12-06T11:10:24.083413Z",
     "start_time": "2024-12-06T11:10:22.520585Z"
    }
   },
   "cell_type": "code",
   "source": [
    "from peft.tuners import MixedModel\n",
    "\n",
    "base_model = 'Qwen/Qwen2-7B-Instruct'  # load the base model, e.g. from transformers"
   ],
   "id": "75514cc28252629e",
   "outputs": [],
   "execution_count": 1
  },
  {
   "metadata": {
    "ExecuteTime": {
     "end_time": "2024-12-06T11:10:41.680369Z",
     "start_time": "2024-12-06T11:10:24.086810Z"
    }
   },
   "cell_type": "code",
   "source": [
    "# load base model\n",
    "from transformers import AutoModel\n",
    "model = AutoModel.from_pretrained(base_model)"
   ],
   "id": "23767c105bdbc819",
   "outputs": [
    {
     "data": {
      "text/plain": [
       "Loading checkpoint shards:   0%|          | 0/4 [00:00<?, ?it/s]"
      ],
      "application/vnd.jupyter.widget-view+json": {
       "version_major": 2,
       "version_minor": 0,
       "model_id": "1654aa99133f43939adacb26fe1ae185"
      }
     },
     "metadata": {},
     "output_type": "display_data"
    }
   ],
   "execution_count": 2
  },
  {
   "metadata": {
    "ExecuteTime": {
     "end_time": "2024-12-06T11:10:41.858400Z",
     "start_time": "2024-12-06T11:10:41.779213Z"
    }
   },
   "cell_type": "code",
   "source": [
    "# load the model with PEFT\n",
    "from peft import PeftModel, LoraConfig\n",
    "\n",
    "rank = 4\n",
    "LoRA_amount = 3\n",
    "\n",
    "peft_config = LoraConfig(\n",
    "    inference_mode=False,\n",
    "    r=rank,\n",
    "    lora_alpha=32,\n",
    "    lora_dropout=0.1\n",
    ")\n",
    "model = PeftModel(model, peft_config, adapter_name=\"0\")\n",
    "for LoRA_index in range(1, LoRA_amount):\n",
    "    model.add_adapter(str(LoRA_index), peft_config)"
   ],
   "id": "72a729d3b2c4dc8d",
   "outputs": [
    {
     "name": "stdout",
     "output_type": "stream",
     "text": [
      "'NoneType' object has no attribute 'cadam32bit_grad_fp32'\n"
     ]
    },
    {
     "name": "stderr",
     "output_type": "stream",
     "text": [
      "/opt/miniconda3/envs/memo/lib/python3.10/site-packages/bitsandbytes/cextension.py:34: UserWarning: The installed version of bitsandbytes was compiled without GPU support. 8-bit optimizers, 8-bit multiplication, and GPU quantization are unavailable.\n",
      "  warn(\"The installed version of bitsandbytes was compiled without GPU support. \"\n"
     ]
    }
   ],
   "execution_count": 3
  },
  {
   "metadata": {
    "ExecuteTime": {
     "end_time": "2024-12-06T11:10:41.925121Z",
     "start_time": "2024-12-06T11:10:41.920143Z"
    }
   },
   "cell_type": "code",
   "source": "model",
   "id": "213c4961465c0dba",
   "outputs": [
    {
     "data": {
      "text/plain": [
       "PeftModel(\n",
       "  (base_model): LoraModel(\n",
       "    (model): Qwen2Model(\n",
       "      (embed_tokens): Embedding(152064, 3584)\n",
       "      (layers): ModuleList(\n",
       "        (0-27): 28 x Qwen2DecoderLayer(\n",
       "          (self_attn): Qwen2SdpaAttention(\n",
       "            (q_proj): lora.Linear(\n",
       "              (base_layer): Linear(in_features=3584, out_features=3584, bias=True)\n",
       "              (lora_dropout): ModuleDict(\n",
       "                (0): Dropout(p=0.1, inplace=False)\n",
       "                (1): Dropout(p=0.1, inplace=False)\n",
       "                (2): Dropout(p=0.1, inplace=False)\n",
       "              )\n",
       "              (lora_A): ModuleDict(\n",
       "                (0): Linear(in_features=3584, out_features=4, bias=False)\n",
       "                (1): Linear(in_features=3584, out_features=4, bias=False)\n",
       "                (2): Linear(in_features=3584, out_features=4, bias=False)\n",
       "              )\n",
       "              (lora_B): ModuleDict(\n",
       "                (0): Linear(in_features=4, out_features=3584, bias=False)\n",
       "                (1): Linear(in_features=4, out_features=3584, bias=False)\n",
       "                (2): Linear(in_features=4, out_features=3584, bias=False)\n",
       "              )\n",
       "              (lora_embedding_A): ParameterDict()\n",
       "              (lora_embedding_B): ParameterDict()\n",
       "              (lora_magnitude_vector): ModuleDict()\n",
       "            )\n",
       "            (k_proj): Linear(in_features=3584, out_features=512, bias=True)\n",
       "            (v_proj): lora.Linear(\n",
       "              (base_layer): Linear(in_features=3584, out_features=512, bias=True)\n",
       "              (lora_dropout): ModuleDict(\n",
       "                (0): Dropout(p=0.1, inplace=False)\n",
       "                (1): Dropout(p=0.1, inplace=False)\n",
       "                (2): Dropout(p=0.1, inplace=False)\n",
       "              )\n",
       "              (lora_A): ModuleDict(\n",
       "                (0): Linear(in_features=3584, out_features=4, bias=False)\n",
       "                (1): Linear(in_features=3584, out_features=4, bias=False)\n",
       "                (2): Linear(in_features=3584, out_features=4, bias=False)\n",
       "              )\n",
       "              (lora_B): ModuleDict(\n",
       "                (0): Linear(in_features=4, out_features=512, bias=False)\n",
       "                (1): Linear(in_features=4, out_features=512, bias=False)\n",
       "                (2): Linear(in_features=4, out_features=512, bias=False)\n",
       "              )\n",
       "              (lora_embedding_A): ParameterDict()\n",
       "              (lora_embedding_B): ParameterDict()\n",
       "              (lora_magnitude_vector): ModuleDict()\n",
       "            )\n",
       "            (o_proj): Linear(in_features=3584, out_features=3584, bias=False)\n",
       "            (rotary_emb): Qwen2RotaryEmbedding()\n",
       "          )\n",
       "          (mlp): Qwen2MLP(\n",
       "            (gate_proj): Linear(in_features=3584, out_features=18944, bias=False)\n",
       "            (up_proj): Linear(in_features=3584, out_features=18944, bias=False)\n",
       "            (down_proj): Linear(in_features=18944, out_features=3584, bias=False)\n",
       "            (act_fn): SiLU()\n",
       "          )\n",
       "          (input_layernorm): Qwen2RMSNorm((3584,), eps=1e-06)\n",
       "          (post_attention_layernorm): Qwen2RMSNorm((3584,), eps=1e-06)\n",
       "        )\n",
       "      )\n",
       "      (norm): Qwen2RMSNorm((3584,), eps=1e-06)\n",
       "    )\n",
       "  )\n",
       ")"
      ]
     },
     "execution_count": 4,
     "metadata": {},
     "output_type": "execute_result"
    }
   ],
   "execution_count": 4
  },
  {
   "metadata": {
    "ExecuteTime": {
     "end_time": "2024-12-06T11:10:42.011813Z",
     "start_time": "2024-12-06T11:10:42.006343Z"
    }
   },
   "cell_type": "code",
   "source": "model.set_adapter('2')",
   "id": "5d95036506b5339a",
   "outputs": [],
   "execution_count": 5
  },
  {
   "metadata": {
    "ExecuteTime": {
     "end_time": "2024-12-06T11:10:42.031573Z",
     "start_time": "2024-12-06T11:10:42.029173Z"
    }
   },
   "cell_type": "code",
   "source": "model.active_adapters",
   "id": "76dc6bf37e830ff1",
   "outputs": [
    {
     "data": {
      "text/plain": [
       "['2']"
      ]
     },
     "execution_count": 6,
     "metadata": {},
     "output_type": "execute_result"
    }
   ],
   "execution_count": 6
  },
  {
   "metadata": {
    "ExecuteTime": {
     "end_time": "2024-12-06T11:10:42.472995Z",
     "start_time": "2024-12-06T11:10:42.075275Z"
    }
   },
   "cell_type": "code",
   "source": [
    "# 这会导致报错\n",
    "model.set_adapter(['1', '2'])"
   ],
   "id": "67b36aaf39d2fbbd",
   "outputs": [
    {
     "ename": "TypeError",
     "evalue": "unhashable type: 'list'",
     "output_type": "error",
     "traceback": [
      "\u001B[0;31m---------------------------------------------------------------------------\u001B[0m",
      "\u001B[0;31mTypeError\u001B[0m                                 Traceback (most recent call last)",
      "Cell \u001B[0;32mIn[7], line 2\u001B[0m\n\u001B[1;32m      1\u001B[0m \u001B[38;5;66;03m# 这会导致报错\u001B[39;00m\n\u001B[0;32m----> 2\u001B[0m \u001B[43mmodel\u001B[49m\u001B[38;5;241;43m.\u001B[39;49m\u001B[43mset_adapter\u001B[49m\u001B[43m(\u001B[49m\u001B[43m[\u001B[49m\u001B[38;5;124;43m'\u001B[39;49m\u001B[38;5;124;43m1\u001B[39;49m\u001B[38;5;124;43m'\u001B[39;49m\u001B[43m,\u001B[49m\u001B[43m \u001B[49m\u001B[38;5;124;43m'\u001B[39;49m\u001B[38;5;124;43m2\u001B[39;49m\u001B[38;5;124;43m'\u001B[39;49m\u001B[43m]\u001B[49m\u001B[43m)\u001B[49m\n",
      "File \u001B[0;32m/opt/miniconda3/envs/memo/lib/python3.10/site-packages/peft/peft_model.py:1263\u001B[0m, in \u001B[0;36mPeftModel.set_adapter\u001B[0;34m(self, adapter_name)\u001B[0m\n\u001B[1;32m   1244\u001B[0m \u001B[38;5;28;01mdef\u001B[39;00m \u001B[38;5;21mset_adapter\u001B[39m(\u001B[38;5;28mself\u001B[39m, adapter_name: \u001B[38;5;28mstr\u001B[39m) \u001B[38;5;241m-\u001B[39m\u001B[38;5;241m>\u001B[39m \u001B[38;5;28;01mNone\u001B[39;00m:\n\u001B[1;32m   1245\u001B[0m \u001B[38;5;250m    \u001B[39m\u001B[38;5;124;03m\"\"\"\u001B[39;00m\n\u001B[1;32m   1246\u001B[0m \u001B[38;5;124;03m    Sets the active adapter.\u001B[39;00m\n\u001B[1;32m   1247\u001B[0m \n\u001B[0;32m   (...)\u001B[0m\n\u001B[1;32m   1261\u001B[0m \u001B[38;5;124;03m            The name of the adapter to be set as active. The adapter must be loaded first.\u001B[39;00m\n\u001B[1;32m   1262\u001B[0m \u001B[38;5;124;03m    \"\"\"\u001B[39;00m\n\u001B[0;32m-> 1263\u001B[0m     \u001B[38;5;28;01mif\u001B[39;00m \u001B[43madapter_name\u001B[49m\u001B[43m \u001B[49m\u001B[38;5;129;43;01mnot\u001B[39;49;00m\u001B[43m \u001B[49m\u001B[38;5;129;43;01min\u001B[39;49;00m\u001B[43m \u001B[49m\u001B[38;5;28;43mself\u001B[39;49m\u001B[38;5;241;43m.\u001B[39;49m\u001B[43mpeft_config\u001B[49m:\n\u001B[1;32m   1264\u001B[0m         \u001B[38;5;28;01mraise\u001B[39;00m \u001B[38;5;167;01mValueError\u001B[39;00m(\u001B[38;5;124mf\u001B[39m\u001B[38;5;124m\"\u001B[39m\u001B[38;5;124mAdapter \u001B[39m\u001B[38;5;132;01m{\u001B[39;00madapter_name\u001B[38;5;132;01m}\u001B[39;00m\u001B[38;5;124m not found.\u001B[39m\u001B[38;5;124m\"\u001B[39m)\n\u001B[1;32m   1265\u001B[0m     \u001B[38;5;28mself\u001B[39m\u001B[38;5;241m.\u001B[39mactive_adapter \u001B[38;5;241m=\u001B[39m adapter_name\n",
      "\u001B[0;31mTypeError\u001B[0m: unhashable type: 'list'"
     ]
    }
   ],
   "execution_count": 7
  }
 ],
 "metadata": {
  "kernelspec": {
   "display_name": "Python 3",
   "language": "python",
   "name": "python3"
  },
  "language_info": {
   "codemirror_mode": {
    "name": "ipython",
    "version": 2
   },
   "file_extension": ".py",
   "mimetype": "text/x-python",
   "name": "python",
   "nbconvert_exporter": "python",
   "pygments_lexer": "ipython2",
   "version": "2.7.6"
  }
 },
 "nbformat": 4,
 "nbformat_minor": 5
}
